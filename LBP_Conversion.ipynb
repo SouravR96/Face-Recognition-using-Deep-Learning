{
  "nbformat": 4,
  "nbformat_minor": 0,
  "metadata": {
    "colab": {
      "name": "LBP - Conversion.ipynb",
      "provenance": [],
      "collapsed_sections": [],
      "authorship_tag": "ABX9TyPEYTY0NFv9JkkGmNc44O7N",
      "include_colab_link": true
    },
    "kernelspec": {
      "name": "python3",
      "display_name": "Python 3"
    },
    "language_info": {
      "name": "python"
    }
  },
  "cells": [
    {
      "cell_type": "markdown",
      "metadata": {
        "id": "view-in-github",
        "colab_type": "text"
      },
      "source": [
        "<a href=\"https://colab.research.google.com/github/SouravR96/Face-Recognition-using-Deep-Learning/blob/main/LBP_Conversion.ipynb\" target=\"_parent\"><img src=\"https://colab.research.google.com/assets/colab-badge.svg\" alt=\"Open In Colab\"/></a>"
      ]
    },
    {
      "cell_type": "code",
      "execution_count": null,
      "metadata": {
        "id": "DQ9mcj0zLtSV"
      },
      "outputs": [],
      "source": [
        "import cv2\n",
        "import numpy as np\n",
        "import os\n",
        "import pathlib\n",
        "from tqdm import tqdm\n",
        "from matplotlib import pyplot as plt\n",
        "from google.colab.patches import cv2_imshow"
      ]
    },
    {
      "cell_type": "code",
      "execution_count": null,
      "metadata": {
        "id": "abs8Yc4jL3-w"
      },
      "outputs": [],
      "source": [
        "def origin_LBP(img):\n",
        "  dst = np.zeros(img.shape, dtype=img.dtype)\n",
        "  h, w = img.shape\n",
        "  for i in range(1, h - 1):\n",
        "      for j in range(1, w - 1):\n",
        "          center = img[i][j]\n",
        "          code = 0\n",
        "\n",
        "          code |= (img[i - 1][j - 1] >= center) << (np.uint8)(7)\n",
        "          code |= (img[i - 1][j] >= center) << (np.uint8)(6)\n",
        "          code |= (img[i - 1][j + 1] >= center) << (np.uint8)(5)\n",
        "          code |= (img[i][j + 1] >= center) << (np.uint8)(4)\n",
        "          code |= (img[i + 1][j + 1] >= center) << (np.uint8)(3)\n",
        "          code |= (img[i + 1][j] >= center) << (np.uint8)(2)\n",
        "          code |= (img[i + 1][j - 1] >= center) << (np.uint8)(1)\n",
        "          code |= (img[i][j - 1] >= center) << (np.uint8)(0)\n",
        "\n",
        "          dst[i - 1][j - 1] = code\n",
        "  return dst\n",
        "  gray = cv2.imread(directory_name + \"/\" + filename, cv2.IMREAD_GRAYSCALE)\n",
        "    #from google.colab.patches import cv2_imshow\n",
        "  cv2_imshow(gray)\n",
        "    #cv2.imshow('img', gray)\n",
        "    # cv2.waitKey(0)\n",
        "  org_lbp = origin_LBP(gray)\n",
        "  return org_lbp\n",
        "    #cv2_imshow(org_lbp)\n",
        "    # cv2.waitKey(0)"
      ]
    }
  ]
}